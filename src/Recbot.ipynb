{
 "cells": [
  {
   "cell_type": "code",
   "execution_count": null,
   "metadata": {},
   "outputs": [],
   "source": [
    "# List Dependencies\n",
    "\n",
    "import pandas as pd\n",
    "import numpy as np\n",
    "import matplotlib.pyplot as plt\n",
    "import sklearn as sk\n",
    "from sklearn.model_selection import train_test_split\n",
    "from scipy import sparse\n",
    "from scipy.sparse import csr_matrix\n",
    "from sklearn.preprocessing import normalize\n",
    "from sklearn.metrics.pairwise import cosine_similarity\n",
    "from timeit import default_timer\n"
   ]
  },
  {
   "cell_type": "code",
   "execution_count": null,
   "metadata": {},
   "outputs": [],
   "source": [
    "df_movies = pd.read_csv('../data/ml-20m/movies.csv')\n",
    "df_movies.head()"
   ]
  },
  {
   "cell_type": "code",
   "execution_count": null,
   "metadata": {},
   "outputs": [],
   "source": [
    "df_movies.info()"
   ]
  },
  {
   "cell_type": "code",
   "execution_count": null,
   "metadata": {},
   "outputs": [],
   "source": [
    "df_ratings = pd.read_csv('../data/ml-20m/ratings.csv',sep=',',\n",
    "                         names= ['userId','movieId','rating','timestamp'],\n",
    "                         dtype= {'userId':np.int32, 'movieId':np.int32, 'rating':np.float64, 'timestamp':np.int64}, \n",
    "                         header=0, skipinitialspace=True, error_bad_lines=False, engine='python')\n",
    "df_ratings.head()"
   ]
  },
  {
   "cell_type": "code",
   "execution_count": null,
   "metadata": {
    "scrolled": true
   },
   "outputs": [],
   "source": [
    "df_ratings.info()"
   ]
  },
  {
   "cell_type": "code",
   "execution_count": null,
   "metadata": {},
   "outputs": [],
   "source": [
    "# How does the no.of ratings per user vary?\n",
    "\n",
    "CntRatingsPerUser = df_ratings[['userId', 'movieId']].groupby('userId').count()\n",
    "CntRatingsPerUser.columns=['no_ratings']\n",
    "\n",
    "plt.scatter(CntRatingsPerUser.index, CntRatingsPerUser.no_ratings, edgecolor='black')\n",
    "plt.xlim(0,len(CntRatingsPerUser.index))\n",
    "plt.ylim(0,)\n",
    "plt.title('No.Of.Ratings')\n",
    "plt.xlabel('userId')\n",
    "plt.ylabel('Number of ratings given')\n",
    "plt.show()"
   ]
  },
  {
   "cell_type": "code",
   "execution_count": null,
   "metadata": {},
   "outputs": [],
   "source": [
    "# Create train, test and validation sets\n",
    "df_train_ratings, df_test_ratings = train_test_split(df_ratings, test_size=0.2, \n",
    "                                                     random_state=1, stratify=df_ratings['userId'])\n",
    "df_train_ratings, df_validation_ratings = train_test_split(df_train_ratings, test_size=0.2, \n",
    "                                                           random_state=1, stratify=df_train_ratings['userId'])\n",
    "df_train_ratings.info()\n",
    "df_test_ratings.info()\n",
    "df_validation_ratings.info()"
   ]
  },
  {
   "cell_type": "code",
   "execution_count": null,
   "metadata": {},
   "outputs": [],
   "source": [
    "# Create ratings sparse matrix\n",
    "\n",
    "lst_unique_users = list(sorted(df_train_ratings.userId.unique()))\n",
    "lst_unique_movies = list(sorted(df_train_ratings.movieId.unique()))\n",
    "\n",
    "# Encode to factors\n",
    "encodedUserId = df_train_ratings.userId.astype(pd.api.types.CategoricalDtype(categories = lst_unique_users)).cat.codes\n",
    "encodedMovieId = df_train_ratings.movieId.astype(pd.api.types.CategoricalDtype(categories = lst_unique_movies)).cat.codes\n",
    "\n",
    "lst_ratings = df_train_ratings['rating'].tolist()\n",
    "\n",
    "mat_ratings = csr_matrix((lst_ratings, (encodedMovieId, encodedUserId)), shape=(len(lst_unique_movies), len(lst_unique_users)))\n",
    "mat_ratings.shape"
   ]
  },
  {
   "cell_type": "code",
   "execution_count": null,
   "metadata": {},
   "outputs": [],
   "source": [
    "# Remove User Bias\n",
    "\n",
    "mat_ratings = normalize(mat_ratings, norm='l1', copy=False, axis=0)\n",
    "sum(mat_ratings[:,0].toarray()[:,0])"
   ]
  },
  {
   "cell_type": "code",
   "execution_count": null,
   "metadata": {},
   "outputs": [],
   "source": [
    "# calculate similarity matrix\n",
    "\n",
    "mat_movie_similarity = cosine_similarity(mat_ratings, dense_output=False)\n",
    "mat_movie_similarity.shape"
   ]
  },
  {
   "cell_type": "code",
   "execution_count": null,
   "metadata": {},
   "outputs": [],
   "source": [
    "# Find k most silimar for an item\n",
    "kSimilar={}\n",
    "def fnKSimilar(pMovieIdx, pk):\n",
    "    if (pMovieIdx in kSimilar):\n",
    "        return kSimilar[pMovieIdx]\n",
    "    pMovieRow = mat_movie_similarity.getrow(pMovieIdx)\n",
    "    vSortedMovieTuples = sorted(zip(pMovieRow.indices, pMovieRow.data), key=lambda x: (x[1]), reverse=True)\n",
    "    vKSimilar = [i for i,j in vSortedMovieTuples[1:pk+1]]\n",
    "    kSimilar[pMovieIdx] = vKSimilar\n",
    "    return vKSimilar\n",
    "\n",
    "vFnKSimilar = np.vectorize(fnKSimilar, doc='Vectorized function to return k similar movie tuples')"
   ]
  },
  {
   "cell_type": "code",
   "execution_count": 93,
   "metadata": {
    "scrolled": true
   },
   "outputs": [
    {
     "name": "stdout",
     "output_type": "stream",
     "text": [
      "0\n"
     ]
    }
   ],
   "source": [
    "# Calculate the user pool\n",
    "k = 30\n",
    "C = {}\n",
    "\n",
    "#print(fnKSimilar(mat_movie_similarity.getrow(0), k))\n",
    "vUserIdx = pd.Series([i for i in range(0,mat_ratings.shape[1])])\n",
    "\n",
    "def fnCalcUserPool(pUserIdx):\n",
    "    if (pUserIdx%1000==0):\n",
    "        print(pUserIdx)\n",
    "    vUserCol = pd.Series(mat_ratings.getcol(pUserIdx).toarray()[:,0],dtype='float64',index= [i for i in range(0,mat_ratings.shape[0])])\n",
    "    vUserCol = vUserCol[vUserCol>0]\n",
    "    vUserCol = vUserCol.index.to_series()\n",
    "    vSimElements = vUserCol.apply(vFnKSimilar, args=(k,))\n",
    "    \n",
    "    def fnFindUnique(pVec):\n",
    "        if(pUserIdx not in C):\n",
    "            C[pUserIdx] = pVec\n",
    "        else: \n",
    "            C[pUserIdx] = pd.Series(np.append(C[pUserIdx], np.setdiff1d(pVec, C[pUserIdx])))\n",
    "    vfnFindUnique = np.vectorize(fnFindUnique)\n",
    "    vSimElements.apply(vfnFindUnique)\n",
    "    return C[pUserIdx]\n",
    "    \n",
    "#start_time = default_timer()\n",
    "#g = vUserIdx.apply(fnCalcUserPool)\n",
    "#end_time = default_timer() - start_time\n",
    "vfnCalcUserPool = np.vectorize(fnCalcUserPool)\n",
    "a = pd.Series([i for i in range(0,2)]).apply(fnCalcUserPool)\n",
    "#a = vfnCalcUserPool([0,1])"
   ]
  },
  {
   "cell_type": "code",
   "execution_count": 119,
   "metadata": {
    "scrolled": true
   },
   "outputs": [],
   "source": [
    "# Predict rating for ui, mj\n",
    "\n",
    "def fnPredictSimilarity(pMovieId, pUserId):\n",
    "    pUserIdx = pUserId - 1\n",
    "    pMovieIdx = pMovieId - 1\n",
    "    vUserCol = pd.Series(mat_ratings.getcol(pUserIdx).toarray()[:,0],dtype='float64',index= [i for i in range(0,mat_ratings.shape[0])])\n",
    "    vUserCol = vUserCol[vUserCol>0]\n",
    "    vSimilarity = mat_movie_similarity[pMovieIdx,vUserCol.index.tolist()]\n",
    "    vSortedSimilarity = sorted(zip(vSimilarity.indices, vSimilarity.data), key=lambda x: (x[1]), reverse=True)\n",
    "    vSortedKSimilarity = [j for i,j in vSortedSimilarity[1:k+1]]\n",
    "    return np.sum(vSortedKSimilarity)\n",
    "    \n",
    "\n",
    "# Predict TopN for given user\n",
    "N = 10\n",
    "def fnTopN(pUserId):\n",
    "    pUserIdx = pUserId - 1;\n",
    "    if(pUserIdx not in C):\n",
    "        vUserPool = pd.Series([pUserIdx]).apply(fnCalcUserPool)\n",
    "    else: vUserPool = C[pUserIdx]\n",
    "    vfnPredictSimilarity = np.vectorize(fnPredictSimilarity)\n",
    "    vPoolSimilarity = (vUserPool+1).apply(vfnPredictSimilarity, args=(pUserId,))\n",
    "    vSortedPoolSimilarity = vPoolSimilarity.sort_values(ascending=False)\n",
    "    return vSortedPoolSimilarity[0:N].index+1"
   ]
  },
  {
   "cell_type": "code",
   "execution_count": 120,
   "metadata": {},
   "outputs": [
    {
     "name": "stdout",
     "output_type": "stream",
     "text": [
      "1.1179831000238813\n"
     ]
    }
   ],
   "source": [
    "print(fnPredictSimilarity(1199,1))\n",
    "predUser = fnTopN(1)"
   ]
  },
  {
   "cell_type": "code",
   "execution_count": null,
   "metadata": {
    "scrolled": true
   },
   "outputs": [],
   "source": [
    "df_train_ratings[df_train_ratings['userId']==1]"
   ]
  },
  {
   "cell_type": "code",
   "execution_count": 77,
   "metadata": {},
   "outputs": [
    {
     "data": {
      "text/plain": [
       "pandas.core.series.Series"
      ]
     },
     "execution_count": 77,
     "metadata": {},
     "output_type": "execute_result"
    }
   ],
   "source": [
    "type(a)"
   ]
  },
  {
   "cell_type": "code",
   "execution_count": 92,
   "metadata": {},
   "outputs": [
    {
     "data": {
      "text/plain": [
       "{0: array([ 496,  360,  314, ..., 2052, 9278, 2374]),\n",
       " 1: array([  724,   767,   139,   640,     2,     4,  1052,    93,     6,\n",
       "           35,   490,   721,   773,   775,    16,    24,     0,   789,\n",
       "          696,   372,   138,   792,   645,     5,   602,    31,   102,\n",
       "           13,    78,   621,   299,   442,   211,   413,   251,   303,\n",
       "          318,   304,   305,   465,   343,    34,   306,   269,   505,\n",
       "          615,   212,   533,  3961,   229,   388,   448,   152,   197,\n",
       "          464,   296,   262,   497,   246,   244,  1184,  1171,  1326,\n",
       "         1173,   843,  2486,    61,  1362,  1212,   352,   453,   583,\n",
       "          373,   586,   584,   148,   376,   450,   360,   496,   587,\n",
       "          163,   582,   108,   151,   345,   363,   325,   340,   313,\n",
       "          293,   589,   591,   581,   289,   430,   183,     9,   206,\n",
       "         1188,  1175,   907,  1174,   737,  1180,   257,  1242,  1113,\n",
       "         1564,  1182,  1684,  1224,  1067,  1075,  1926,  1480,  1169,\n",
       "         2830,  1263,  2772,  1528,  4782,   887,   906,   895,  1203,\n",
       "          886,  1275,  1193,  1260,  2321,  1181,  1186,  2555,   909,\n",
       "         1207,  1219,   952,  1861,  1239,  1970,   896,  1250,   905,\n",
       "         1222,   913,  3346,   537,  2226,  1104,  3382,  1272,  1343,\n",
       "         2444,  1225,  1532,  1230,  1196,  1822,  4169,  1882,  2048,\n",
       "          213,  1065,   404,   793,  1025,  1045,  5044, 22724,  3843,\n",
       "         1603, 13626,  3063,  2086,   316,  1567,  5045,  1889, 13389,\n",
       "         3833,  2310,  2764,  3855, 21882,  3834,  2543,  1172,  1944,\n",
       "         4897,  1017,  7041,  5853,  5281,  2676,  1356,   902,  2203,\n",
       "         3437,  1291,  1913,  1884,  2832,  1278,  1057,  1363,  2705,\n",
       "         2718,  1218,  1194,  1237,  1187,  1877,  2630,  2090,  2206,\n",
       "         2711,  1916,  1927,  1928,  5252,   817,   110,  1360,   749,\n",
       "         1522,  1557,   476,  1494,  1661,  3702,  1833,  3487,  1619,\n",
       "         4211,  1596,   728,  2147,  1246,  1189,  1837,  1825,   196,\n",
       "         1633,  1055,  3482,  2983,  2286,  9163,  2264,  7738,  3334,\n",
       "         1231,  1264,  1980, 16218,  1241,  1000,  1148, 20601,  3018,\n",
       "         3467,  2737,  1887,   646,  1886,  1888,  1893,  2823,  1902,\n",
       "         1891,  1894,  1907, 16192,  3951,  1892,  1895,   959,  1911,\n",
       "         1317, 13678,  3472,  1890,  1896, 13383,  1903,  1897,  5226,\n",
       "         1901,  2380,  1885,  1909,  1899,  2561,  1307,  3605,  2013,\n",
       "         1904,  2906, 15086,  2931,  1399,  4006, 12753, 10540,  1908,\n",
       "         2375,  1900,  2701,  2366, 17930,  3561,  3824,  4723,   362,\n",
       "         1569,  2429,  2430,  2230,  2781,  1312, 13401,  2428, 13924,\n",
       "        22309, 15905, 10726,  1898,  9550, 14117, 14116,  6762, 13249,\n",
       "        12536, 18289,  6390,  5090,  4012,  6632,  4579,  1533,   874,\n",
       "         2023,  7390,  2891,  3864,  2570, 12908,  4841,  1305, 12639,\n",
       "        15385,  6500,  3837, 16352,  2278,  2202,  2370,  2371,  3840,\n",
       "         2578,  7129,  5910,  2574,  2581,  2575,  3785,  2577,  2442,\n",
       "        21130,  2468, 12465,  2434,  2021,  1910,  1340,  1106,  2322,\n",
       "         1309,  2899,  2882,  2369,  1937, 13846,  3168,   579,  1304,\n",
       "           30,  1344,  2932,  2193,  1257,   253,  2077,   274,  2863,\n",
       "         2861,  3890,  2903,  2907,  3544,  2905,  2858,  7372,  7371,\n",
       "         2281, 11304,  2291,  2904,  3542,  3548,  7648, 12975,  3911,\n",
       "         2865,  3913,  1873,  3464,  3563,  3736,  1737,  5939,  4554,\n",
       "         4597,  3618,  1402,  4135,  4803,  3153,  1641,  3424,  4658,\n",
       "          494, 11047,  1393,  2124,  3094,  2539,  3656,  2664,  1451,\n",
       "         2751,  2877,   393,  1766,  2683,  3478,  3419,  2643, 19172,\n",
       "         3231, 16767,  3321, 20972, 13025,  3423,    68,  3444,  3213,\n",
       "        20364,  3103,  3475,  3073,  3235, 10885, 10369,  3805,  3653,\n",
       "        11530,  3662,  2111, 20783,  3090,  3368,  4144,  3443,  2708,\n",
       "         2346, 10529, 11773,  4317,  5188,  3338,  6112,  5452,  8061,\n",
       "         1069, 11555,  4466,  8090,  3517,  9685,    87,  2531,  1001,\n",
       "        15623,  2338,   142,  2393,  4528, 13046,  3461,  6030,  2050,\n",
       "          541, 15686,  1647,  6377,  3394,  1576,  3239,  3232,  3320,\n",
       "         3199,  9707,  3267, 12206,  3086,  8939,  3422, 12512,  3664,\n",
       "         3240,  3392,  3474, 11823,  3229,  1681,  2487, 12273, 19390,\n",
       "         2964,  3238,  6392,  2918,  2685,  4544, 11645,  9350, 10810,\n",
       "         2620,  2919, 10461, 15838,  4696,  3789,  3092, 11177,  2496,\n",
       "         7318,  3445,  5325,  9500,  2129,  3463, 12590, 12041,  4246,\n",
       "         3212,  3364,  3503,  4771,  3527, 17662,  2503,  3462,  3391,\n",
       "         3393,  3738,  3499,  3351,  2638,  3532,  3626,  3883,  3928,\n",
       "         3420,  3854,  3660,  2994,  3661,  3707,  3823,  3526,  3089,\n",
       "         4215,  4899,  3825,  3826,  7596,   605,  2782,  5754,  3636,\n",
       "         4011,  6543,  3863,  2292,  3835,  3062,  3868,  2465,  1233,\n",
       "         3850,  5829,  5107,  5765,  1849,  4339,  6069,  5734,   164,\n",
       "          840,  3845,  3888,  5459,  6013,  2916,  2431,  4189,  2699,\n",
       "         3936,  3821,  9782,  1094,  3842,  3831,  3839,  3869,  3838,\n",
       "         3841,  3489,  3865,  2409,  3777,  3828,  2870,  3829,  3836,\n",
       "         3830,  2739,  3866,  5001,  3779,  3881,  2618,  3915,  4237,\n",
       "         2923,  1706,  1906,  2825,  1637,  1476,  3715,  3891,  3588,\n",
       "         6085,  1815,  3051,  3036,  1604,  5768,  3802,  2379,  3569,\n",
       "          703,  3110,  8902,  4348,  2530,  2437,  4756,  3667,  7016,\n",
       "         5694,  5447,  7905,  2447,  7832, 12661, 14615,  9203, 10676,\n",
       "         5193,  4646,  3954,  8784, 13741,  3784,  7767])}"
      ]
     },
     "execution_count": 92,
     "metadata": {},
     "output_type": "execute_result"
    }
   ],
   "source": [
    "C"
   ]
  },
  {
   "cell_type": "code",
   "execution_count": 121,
   "metadata": {},
   "outputs": [
    {
     "data": {
      "text/plain": [
       "Int64Index([100, 105, 101, 108, 50, 131, 45, 137, 70, 259], dtype='int64')"
      ]
     },
     "execution_count": 121,
     "metadata": {},
     "output_type": "execute_result"
    }
   ],
   "source": [
    "predUser"
   ]
  },
  {
   "cell_type": "code",
   "execution_count": 107,
   "metadata": {},
   "outputs": [
    {
     "data": {
      "text/plain": [
       "{0: 0         496\n",
       " 1         360\n",
       " 2         314\n",
       " 3         363\n",
       " 4         580\n",
       " 5         581\n",
       " 6         582\n",
       " 7         476\n",
       " 8          10\n",
       " 9         589\n",
       " 10          9\n",
       " 11        535\n",
       " 12        148\n",
       " 13        591\n",
       " 14        373\n",
       " 15        346\n",
       " 16        206\n",
       " 17        586\n",
       " 18        158\n",
       " 19         33\n",
       " 20        313\n",
       " 21        156\n",
       " 22        376\n",
       " 23        151\n",
       " 24        584\n",
       " 25        406\n",
       " 26        352\n",
       " 27        325\n",
       " 28        340\n",
       " 29         20\n",
       "         ...  \n",
       " 1609    12100\n",
       " 1610    10491\n",
       " 1611     7751\n",
       " 1612     8578\n",
       " 1613     7223\n",
       " 1614     8111\n",
       " 1615    11762\n",
       " 1616     7265\n",
       " 1617    11584\n",
       " 1618    13255\n",
       " 1619    11020\n",
       " 1620     6843\n",
       " 1621    12338\n",
       " 1622    19784\n",
       " 1623    13325\n",
       " 1624     9826\n",
       " 1625     7040\n",
       " 1626     7206\n",
       " 1627    22525\n",
       " 1628    11393\n",
       " 1629    11141\n",
       " 1630     6944\n",
       " 1631     7851\n",
       " 1632     8520\n",
       " 1633     7769\n",
       " 1634    18229\n",
       " 1635     3912\n",
       " 1636     2052\n",
       " 1637     9278\n",
       " 1638     2374\n",
       " Length: 1639, dtype: int32, 1: 0        724\n",
       " 1        767\n",
       " 2        139\n",
       " 3        640\n",
       " 4          2\n",
       " 5          4\n",
       " 6       1052\n",
       " 7         93\n",
       " 8          6\n",
       " 9         35\n",
       " 10       490\n",
       " 11       721\n",
       " 12       773\n",
       " 13       775\n",
       " 14        16\n",
       " 15        24\n",
       " 16         0\n",
       " 17       789\n",
       " 18       696\n",
       " 19       372\n",
       " 20       138\n",
       " 21       792\n",
       " 22       645\n",
       " 23         5\n",
       " 24       602\n",
       " 25        31\n",
       " 26       102\n",
       " 27        13\n",
       " 28        78\n",
       " 29       621\n",
       "        ...  \n",
       " 661     1604\n",
       " 662     5768\n",
       " 663     3802\n",
       " 664     2379\n",
       " 665     3569\n",
       " 666      703\n",
       " 667     3110\n",
       " 668     8902\n",
       " 669     4348\n",
       " 670     2530\n",
       " 671     2437\n",
       " 672     4756\n",
       " 673     3667\n",
       " 674     7016\n",
       " 675     5694\n",
       " 676     5447\n",
       " 677     7905\n",
       " 678     2447\n",
       " 679     7832\n",
       " 680    12661\n",
       " 681    14615\n",
       " 682     9203\n",
       " 683    10676\n",
       " 684     5193\n",
       " 685     4646\n",
       " 686     3954\n",
       " 687     8784\n",
       " 688    13741\n",
       " 689     3784\n",
       " 690     7767\n",
       " Length: 691, dtype: int32}"
      ]
     },
     "execution_count": 107,
     "metadata": {},
     "output_type": "execute_result"
    }
   ],
   "source": [
    "C"
   ]
  },
  {
   "cell_type": "code",
   "execution_count": null,
   "metadata": {},
   "outputs": [],
   "source": []
  }
 ],
 "metadata": {
  "kernelspec": {
   "display_name": "Python 3",
   "language": "python",
   "name": "python3"
  },
  "language_info": {
   "codemirror_mode": {
    "name": "ipython",
    "version": 3
   },
   "file_extension": ".py",
   "mimetype": "text/x-python",
   "name": "python",
   "nbconvert_exporter": "python",
   "pygments_lexer": "ipython3",
   "version": "3.6.5"
  }
 },
 "nbformat": 4,
 "nbformat_minor": 2
}
