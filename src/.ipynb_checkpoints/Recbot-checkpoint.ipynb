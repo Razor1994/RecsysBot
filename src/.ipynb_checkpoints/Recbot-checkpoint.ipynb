{
 "cells": [
  {
   "cell_type": "code",
   "execution_count": 77,
   "metadata": {},
   "outputs": [],
   "source": [
    "# List Dependencies\n",
    "\n",
    "import pandas as pd\n",
    "import numpy as np\n",
    "import matplotlib.pyplot as plt\n",
    "import sklearn as sk\n",
    "from sklearn.model_selection import train_test_split\n",
    "from scipy.sparse import csr_matrix\n",
    "from sklearn.preprocessing import normalize\n",
    "from sklearn.metrics.pairwise import cosine_similarity\n",
    "from timeit import default_timer\n"
   ]
  },
  {
   "cell_type": "code",
   "execution_count": null,
   "metadata": {},
   "outputs": [],
   "source": [
    "df_movies = pd.read_csv('../data/ml-20m/movies.csv')\n",
    "df_movies.head()"
   ]
  },
  {
   "cell_type": "code",
   "execution_count": null,
   "metadata": {},
   "outputs": [],
   "source": [
    "df_movies.info()"
   ]
  },
  {
   "cell_type": "code",
   "execution_count": null,
   "metadata": {},
   "outputs": [],
   "source": [
    "df_ratings = pd.read_csv('../data/ml-20m/ratings.csv',sep=',',\n",
    "                         names= ['userId','movieId','rating','timestamp'],\n",
    "                         dtype= {'userId':np.int32, 'movieId':np.int32, 'rating':np.float64, 'timestamp':np.int64}, \n",
    "                         header=0, skipinitialspace=True, error_bad_lines=False, engine='python')\n",
    "df_ratings.head()"
   ]
  },
  {
   "cell_type": "code",
   "execution_count": 62,
   "metadata": {
    "scrolled": true
   },
   "outputs": [
    {
     "name": "stdout",
     "output_type": "stream",
     "text": [
      "<class 'pandas.core.frame.DataFrame'>\n",
      "RangeIndex: 20000263 entries, 0 to 20000262\n",
      "Data columns (total 4 columns):\n",
      "userId       int32\n",
      "movieId      int32\n",
      "rating       float64\n",
      "timestamp    int64\n",
      "dtypes: float64(1), int32(2), int64(1)\n",
      "memory usage: 457.8 MB\n"
     ]
    }
   ],
   "source": [
    "df_ratings.info()"
   ]
  },
  {
   "cell_type": "code",
   "execution_count": null,
   "metadata": {},
   "outputs": [],
   "source": [
    "# How does the no.of ratings per user vary?\n",
    "\n",
    "CntRatingsPerUser = df_ratings[['userId', 'movieId']].groupby('userId').count()\n",
    "CntRatingsPerUser.columns=['no_ratings']\n",
    "\n",
    "plt.scatter(CntRatingsPerUser.index, CntRatingsPerUser.no_ratings, edgecolor='black')\n",
    "plt.xlim(0,len(CntRatingsPerUser.index))\n",
    "plt.ylim(0,)\n",
    "plt.title('No.Of.Ratings')\n",
    "plt.xlabel('userId')\n",
    "plt.ylabel('Number of ratings given')\n",
    "plt.show()"
   ]
  },
  {
   "cell_type": "code",
   "execution_count": null,
   "metadata": {},
   "outputs": [],
   "source": [
    "# Create train, test and validation sets\n",
    "df_train_ratings, df_test_ratings = train_test_split(df_ratings, test_size=0.2, \n",
    "                                                     random_state=1, stratify=df_ratings['userId'])\n",
    "df_train_ratings, df_validation_ratings = train_test_split(df_train_ratings, test_size=0.2, \n",
    "                                                           random_state=1, stratify=df_train_ratings['userId'])\n",
    "df_train_ratings.info()\n",
    "df_test_ratings.info()\n",
    "df_validation_ratings.info()"
   ]
  },
  {
   "cell_type": "code",
   "execution_count": 14,
   "metadata": {},
   "outputs": [
    {
     "data": {
      "text/plain": [
       "(24945, 138493)"
      ]
     },
     "execution_count": 14,
     "metadata": {},
     "output_type": "execute_result"
    }
   ],
   "source": [
    "# Create ratings sparse matrix\n",
    "\n",
    "lst_unique_users = list(sorted(df_train_ratings.userId.unique()))\n",
    "lst_unique_movies = list(sorted(df_train_ratings.movieId.unique()))\n",
    "\n",
    "# Encode to factors\n",
    "encodedUserId = df_train_ratings.userId.astype(pd.api.types.CategoricalDtype(categories = lst_unique_users)).cat.codes\n",
    "encodedMovieId = df_train_ratings.movieId.astype(pd.api.types.CategoricalDtype(categories = lst_unique_movies)).cat.codes\n",
    "\n",
    "lst_ratings = df_train_ratings['rating'].tolist()\n",
    "\n",
    "mat_ratings = csr_matrix((lst_ratings, (encodedMovieId, encodedUserId)), shape=(len(lst_unique_movies), len(lst_unique_users)))\n",
    "mat_ratings.shape"
   ]
  },
  {
   "cell_type": "code",
   "execution_count": 75,
   "metadata": {},
   "outputs": [
    {
     "data": {
      "text/plain": [
       "1.0"
      ]
     },
     "execution_count": 75,
     "metadata": {},
     "output_type": "execute_result"
    }
   ],
   "source": [
    "# Remove User Bias\n",
    "\n",
    "mat_ratings = normalize(mat_ratings, norm='l1', copy=False, axis=0)\n",
    "sum(mat_ratings[:,0].toarray()[:,0])"
   ]
  },
  {
   "cell_type": "code",
   "execution_count": 81,
   "metadata": {},
   "outputs": [],
   "source": [
    "mat_movie_similarity = cosine_similarity(mat_ratings)"
   ]
  },
  {
   "cell_type": "code",
   "execution_count": 82,
   "metadata": {},
   "outputs": [
    {
     "data": {
      "text/plain": [
       "(24945, 24945)"
      ]
     },
     "execution_count": 82,
     "metadata": {},
     "output_type": "execute_result"
    }
   ],
   "source": [
    "mat_movie_similarity.shape"
   ]
  },
  {
   "cell_type": "code",
   "execution_count": null,
   "metadata": {},
   "outputs": [],
   "source": []
  }
 ],
 "metadata": {
  "kernelspec": {
   "display_name": "Python 3",
   "language": "python",
   "name": "python3"
  },
  "language_info": {
   "codemirror_mode": {
    "name": "ipython",
    "version": 3
   },
   "file_extension": ".py",
   "mimetype": "text/x-python",
   "name": "python",
   "nbconvert_exporter": "python",
   "pygments_lexer": "ipython3",
   "version": "3.6.5"
  }
 },
 "nbformat": 4,
 "nbformat_minor": 2
}
